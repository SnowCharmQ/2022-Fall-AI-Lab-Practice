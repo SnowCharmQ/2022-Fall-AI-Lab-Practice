{
 "cells": [
  {
   "cell_type": "code",
   "execution_count": 16,
   "metadata": {
    "pycharm": {
     "name": "#%%\n"
    }
   },
   "outputs": [],
   "source": [
    "def two_sum(sequence, t):\n",
    "    \"\"\"\n",
    "    Args:\n",
    "        sequence: the given sequence as a list\n",
    "        t: the given target number, which should be the sum of two selected integers.\n",
    "\n",
    "    Returns:\n",
    "        res: A list of tuple. And each tuple would be the idx of two selected integers.\n",
    "    Example:\n",
    "        input:\n",
    "        1 2 3 4\n",
    "        5\n",
    "        output:\n",
    "        0 3\n",
    "        1 2\n",
    "\n",
    "    \"\"\"\n",
    "    res = []\n",
    "\n",
    "    for i in range(len(sequence)):\n",
    "        for j in range(len(sequence)):\n",
    "            if sequence[i] + sequence[j] == t:\n",
    "                res.append((i, j))\n",
    "\n",
    "    return res"
   ]
  },
  {
   "cell_type": "code",
   "execution_count": 18,
   "metadata": {
    "pycharm": {
     "name": "#%%\n"
    }
   },
   "outputs": [
    {
     "name": "stdout",
     "output_type": "stream",
     "text": [
      "case 1\n",
      "0 3\n",
      "1 2\n",
      "2 1\n",
      "3 0\n",
      "case 2\n",
      "2 19\n",
      "4 17\n",
      "17 4\n",
      "19 2\n",
      "case 3\n",
      "9 181\n",
      "30 159\n",
      "43 143\n",
      "56 130\n",
      "59 123\n",
      "61 122\n",
      "84 99\n",
      "88 94\n",
      "94 88\n",
      "99 84\n",
      "122 61\n",
      "123 59\n",
      "130 56\n",
      "143 43\n",
      "159 30\n",
      "181 9\n"
     ]
    }
   ],
   "source": [
    "# test block\n",
    "for i in range(3):\n",
    "    print(f'case {i + 1}')\n",
    "    with open(f'./test_cases/problem1/{i + 1}.txt', 'r') as f:\n",
    "        seq, tar = f.read().strip().split('\\n')\n",
    "        seq = [*map(int, seq.split(' '))]\n",
    "        tar = int(tar)\n",
    "\n",
    "    for item in two_sum(seq, tar):\n",
    "        print('%d %d' % item)"
   ]
  }
 ],
 "metadata": {
  "kernelspec": {
   "display_name": "Python 3",
   "language": "python",
   "name": "python3"
  },
  "language_info": {
   "codemirror_mode": {
    "name": "ipython",
    "version": 3
   },
   "file_extension": ".py",
   "mimetype": "text/x-python",
   "name": "python",
   "nbconvert_exporter": "python",
   "pygments_lexer": "ipython3",
   "version": "3.8.8"
  }
 },
 "nbformat": 4,
 "nbformat_minor": 1
}