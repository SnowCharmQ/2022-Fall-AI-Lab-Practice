{
 "cells": [
  {
   "cell_type": "markdown",
   "metadata": {
    "pycharm": {
     "name": "#%% md\n"
    }
   },
   "source": [
    "### Snake: Simulate a snake game and print the game results.\n",
    "\n",
    "You are given a map that ‘x’ represents a rock, ‘-’represents a space, ‘#’represents the body of snake. ‘@’represent the head of the snake and a sequence of actions that ‘0,1,2,3’ represent to move to up/down/left/right correspondingly for one step.\n",
    "A greedy snake starts in the map state and moves one step per unit of time according to the sequence of actions until all actions complete or fail. It will fail when the head and the stone overlap, the head goes beyond the boundary, or the head overlaps the body. \n",
    "\n",
    "#### Input\n",
    "A matrix with type char (the map). \n",
    "A sequence with type int (the motions). \n",
    "\n",
    "#### Output\n",
    "The result of the game:\n",
    "If it failed, output the running time of the game.\n",
    "If it did not fail, output the final position of the head (in the form “%d, %d”)."
   ]
  },
  {
   "cell_type": "code",
   "execution_count": 50,
   "metadata": {
    "pycharm": {
     "name": "#%%\n"
    }
   },
   "outputs": [
    {
     "data": {
      "text/plain": "'\\nExample:\\ninput:\\nmap:\\n---------\\n------x--\\n-x-------\\n---@-----\\n---##----\\n------x--\\n--x----x-\\n-x-------\\n---------\\naction:\\n0 0 3 3 0 3 3 1 1 1 1 1 3 1 1 2 2 2 2 2\\n\\noutput:\\n7 3\\n'"
     },
     "execution_count": 50,
     "metadata": {},
     "output_type": "execute_result"
    }
   ],
   "source": [
    "\"\"\"\n",
    "Example:\n",
    "input:\n",
    "map:\n",
    "---------\n",
    "------x--\n",
    "-x-------\n",
    "---@-----\n",
    "---##----\n",
    "------x--\n",
    "--x----x-\n",
    "-x-------\n",
    "---------\n",
    "action:\n",
    "0 0 3 3 0 3 3 1 1 1 1 1 3 1 1 2 2 2 2 2\n",
    "\n",
    "output:\n",
    "7 3\n",
    "\"\"\""
   ]
  },
  {
   "cell_type": "code",
   "execution_count": 51,
   "metadata": {
    "pycharm": {
     "name": "#%%\n"
    }
   },
   "outputs": [],
   "source": [
    "def check(game_map, x, y):\n",
    "    cnt = 0\n",
    "    if x + 1 < len(game_map[0]) and game_map[y][x + 1] == '#':\n",
    "        cnt += 1\n",
    "    if x - 1 >= 0 and game_map[y][x - 1] == '#':\n",
    "        cnt += 1\n",
    "    if y + 1 < len(game_map[0]) and game_map[y + 1][x] == '#':\n",
    "        cnt += 1\n",
    "    if y - 1 >= 0 and game_map[y - 1][x] == '#':\n",
    "        cnt += 1\n",
    "    return cnt == 1\n",
    "\n",
    "\n",
    "def next_tail(game_map, x, y):\n",
    "    if x + 1 < len(game_map[0]) and game_map[y][x + 1] == '#':\n",
    "        return x + 1, y\n",
    "    if x - 1 >= 0 and game_map[y][x - 1] == '#':\n",
    "        return x - 1, y\n",
    "    if y + 1 < len(game_map) and game_map[y + 1][x] == '#':\n",
    "        return x, y + 1\n",
    "    if y - 1 >= 0 and game_map[y - 1][x] == '#':\n",
    "        return x, y - 1\n",
    "    return x, y\n",
    "\n",
    "\n",
    "def game(game_map, actions):\n",
    "    y_len = len(game_map)\n",
    "    x_len = len(game_map[0])\n",
    "    x_head, y_head, x_tail, y_tail, x_next, y_next = 0, 0, 0, 0, 0, 0\n",
    "    for y in range(y_len):\n",
    "        for x in range(x_len):\n",
    "            if game_map[y][x] == '@':\n",
    "                x_head, y_head = x, y\n",
    "            if game_map[y][x] == '#' and check(game_map, x, y):\n",
    "                x_tail, y_tail = x, y\n",
    "                x_next, y_next = next_tail(game_map, x, y)\n",
    "    time = 0\n",
    "    for num in actions:\n",
    "        if num == 0 and y_head - 1 >= 0 and game_map[y_head - 1][x_head] == '-':\n",
    "            game_map[y_head][x_head] = '#'\n",
    "            game_map[y_head - 1][x_head] = '@'\n",
    "            x_head, y_head = x_head, y_head - 1\n",
    "            game_map[y_tail][x_tail] = '-'\n",
    "            x_tail, y_tail = x_next, y_next\n",
    "            x_next, y_next = next_tail(game_map, x_tail, y_tail)\n",
    "        elif num == 1 and y_head + 1 < y_len and game_map[y_head + 1][x_head] == '-':\n",
    "            game_map[y_head][x_head] = '#'\n",
    "            game_map[y_head + 1][x_head] = '@'\n",
    "            x_head, y_head = x_head, y_head + 1\n",
    "            game_map[y_tail][x_tail] = '-'\n",
    "            x_tail, y_tail = x_next, y_next\n",
    "            x_next, y_next = next_tail(game_map, x_tail, y_tail)\n",
    "        elif num == 2 and x_head - 1 >= 0 and game_map[y_head][x_head - 1] == '-':\n",
    "            game_map[y_head][x_head] = '#'\n",
    "            game_map[y_head][x_head - 1] = '@'\n",
    "            x_head, y_head = x_head - 1, y_head\n",
    "            game_map[y_tail][x_tail] = '-'\n",
    "            x_tail, y_tail = x_next, y_next\n",
    "            x_next, y_next = next_tail(game_map, x_tail, y_tail)\n",
    "        elif num == 3 and x_head + 1 < x_len and game_map[y_head][x_head + 1] == '-':\n",
    "            game_map[y_head][x_head] = '#'\n",
    "            game_map[y_head][x_head + 1] = '@'\n",
    "            x_head, y_head = x_head + 1, y_head\n",
    "            game_map[y_tail][x_tail] = '-'\n",
    "            x_tail, y_tail = x_next, y_next\n",
    "            x_next, y_next = next_tail(game_map, x_tail, y_tail)\n",
    "        else:\n",
    "            print(time)\n",
    "            return\n",
    "        time += 1\n",
    "    print(y_head, x_head)"
   ]
  },
  {
   "cell_type": "code",
   "execution_count": 52,
   "metadata": {
    "pycharm": {
     "name": "#%%\n"
    }
   },
   "outputs": [
    {
     "name": "stdout",
     "output_type": "stream",
     "text": [
      "[['-', '-', '-', '-', '-', '-', '-', '-', '-', '-', '-', '-', '-'], ['-', '-', '-', '-', '-', '-', 'x', '-', '-', '-', '-', '-', '-'], ['-', 'x', '-', '-', '-', '-', '-', '-', '-', '-', '-', '-', '-'], ['-', '-', '-', '@', '-', '-', '-', '-', '-', '-', 'x', '-', '-'], ['-', '-', '-', '#', '#', '#', '-', '-', '-', '-', 'x', '-', '-'], ['-', '-', '-', '-', '-', '#', '-', '-', '-', '-', 'x', '-', '-'], ['-', '-', 'x', '-', '-', '#', '-', '-', '-', '-', '-', '-', '-'], ['-', '-', '-', '#', '#', '#', '-', '-', '-', '-', '-', '-', '-'], ['-', '-', '-', '-', '-', '-', '-', '-', 'x', 'x', '-', '-', '-'], ['-', '-', '-', '-', '-', '-', '-', '-', '-', '-', '-', '-', '-']]\n",
      "[0, 3, 3, 3, 3, 1, 1, 1, 2, 2, 2, 1, 1, 3, 3, 3, 3, 3, 3, 1, 1, 2, 2, 2, 2, 0, 0, 0, 3, 3, 1, 2, 2, 2, 2, 0, 0, 0]\n"
     ]
    }
   ],
   "source": [
    "# test block, you may need to modify this block.\n",
    "test_case = 4\n",
    "with open(f'test_cases/problem3/{test_case}-map.txt', 'r') as f:\n",
    "    game_map = [list(line.strip()) for line in f.readlines()]\n",
    "print(game_map)\n",
    "with open(f'./test_cases/problem3/{test_case}-actions.txt', 'r') as f:\n",
    "    actions = [*map(int, f.read().split(' '))]\n",
    "print(actions)"
   ]
  },
  {
   "cell_type": "code",
   "execution_count": 53,
   "outputs": [
    {
     "name": "stdout",
     "output_type": "stream",
     "text": [
      "32\n"
     ]
    }
   ],
   "source": [
    "game(game_map, actions)"
   ],
   "metadata": {
    "collapsed": false,
    "pycharm": {
     "name": "#%%\n"
    }
   }
  }
 ],
 "metadata": {
  "interpreter": {
   "hash": "6eea70d608ba4e65e3b5d32ac8522b4d78d39b471a2766e116e1911c1dde4fb7"
  },
  "kernelspec": {
   "display_name": "Python 3 (ipykernel)",
   "language": "python",
   "name": "python3"
  },
  "language_info": {
   "codemirror_mode": {
    "name": "ipython",
    "version": 3
   },
   "file_extension": ".py",
   "mimetype": "text/x-python",
   "name": "python",
   "nbconvert_exporter": "python",
   "pygments_lexer": "ipython3",
   "version": "3.9.12"
  }
 },
 "nbformat": 4,
 "nbformat_minor": 1
}