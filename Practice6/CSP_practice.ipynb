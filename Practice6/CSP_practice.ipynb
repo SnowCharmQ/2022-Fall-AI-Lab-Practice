{
 "cells": [
  {
   "cell_type": "code",
   "execution_count": 1,
   "id": "4afb24f8",
   "metadata": {
    "pycharm": {
     "name": ""
    }
   },
   "outputs": [],
   "source": [
    "# Look The Note Below!!!\n",
    "\n",
    "import numpy as np\n",
    "import time\n",
    "\n",
    "N = 5 # You should change the test size here !!!\n",
    "\n",
    "def my_range(start, end):\n",
    "    if start <= end:\n",
    "        return range(start, end + 1)\n",
    "    else:\n",
    "        return range(start, end - 1, -1)\n",
    "\n",
    "\n",
    "class Problem:\n",
    "    char_mapping = ('·', 'Q')\n",
    "\n",
    "    def __init__(self, n=4):\n",
    "        self.n = n\n",
    "\n",
    "    def is_valid(self, state):\n",
    "        \"\"\"\n",
    "        check the state satisfy condition or not.\n",
    "        :param state: list of points (in (row id, col id) tuple form)\n",
    "        :return: bool value of valid or not\n",
    "        \"\"\"\n",
    "        board = self.get_board(state)\n",
    "        res = True\n",
    "        for point in state:\n",
    "            i, j = point\n",
    "            condition1 = board[:, j].sum() <= 1\n",
    "            condition2 = board[i, :].sum() <= 1\n",
    "            condition3 = self.pos_slant_condition(board, point)\n",
    "            condition4 = self.neg_slant_condition(board, point)\n",
    "            res = res and condition1 and condition2 and condition3 and condition4\n",
    "            if not res:\n",
    "                break\n",
    "        return res\n",
    "\n",
    "    def is_satisfy(self, state):\n",
    "        return self.is_valid(state) and len(state) == self.n\n",
    "\n",
    "    def pos_slant_condition(self, board, point):\n",
    "        i, j = point\n",
    "        tmp = min(self.n - i - 1, j)\n",
    "        start = (i + tmp, j - tmp)\n",
    "        tmp = min(i, self.n - j - 1)\n",
    "        end = (i - tmp,  j + tmp)\n",
    "        rows = my_range(start[0], end[0])\n",
    "        cols = my_range(start[1], end[1])\n",
    "        return board[rows, cols].sum() <= 1\n",
    "\n",
    "    def neg_slant_condition(self, board, point):\n",
    "        i, j = point\n",
    "        tmp = min(i, j)\n",
    "        start = (i - tmp, j - tmp)\n",
    "        tmp = min(self.n - i - 1, self.n - j - 1)\n",
    "        end = (i + tmp, j + tmp)\n",
    "        rows = my_range(start[0], end[0])\n",
    "        cols = my_range(start[1], end[1])\n",
    "        return board[rows, cols].sum() <= 1\n",
    "\n",
    "    def get_board(self, state):\n",
    "        board = np.zeros([self.n, self.n], dtype=int)\n",
    "        for point in state:\n",
    "            board[point] = 1\n",
    "        return board\n",
    "\n",
    "    def print_state(self, state):\n",
    "        board = self.get_board(state)\n",
    "        print('_' * (2 * self.n + 1))\n",
    "        for row in board:\n",
    "            for item in row:\n",
    "                print(f'|{Problem.char_mapping[item]}', end='')\n",
    "            print('|')\n",
    "        print('-' * (2 * self.n + 1))"
   ]
  },
  {
   "cell_type": "markdown",
   "id": "a7793fb8",
   "metadata": {
    "notebookRunGroups": {
     "groupValue": ""
    }
   },
   "source": [
    "# Read the note First ! ! !\n",
    "#### In all the code above, only two of the function usages are needed. One is is_valid(self, state), which is to determine if the current state is legal; the other is is_satisfy(self, state), which is to determine if the current board meets the win condition. \n",
    "#### The type of state is [], which stores the tuples(a, b), representing the positions of the queens in it.\n",
    "#### In the first line of the code you can see N = 5, this is the size of the test.\n",
    "#### Then in the test_block that follows, render indicates whether to use a graphical interface representation, and then method indicates which bts are used(bts or improving_bts).\n",
    "\n",
    "### Request 1: You should complete the function bts(problem). \n",
    "You can only use iterative way, not recursive. Using recursion will incur a **20% penalty**. And you can add any function you want. (**DDL: 10.28**)\n",
    "### Request 2: You should complete the function improving_bts(problem). \n",
    "You can select one or more methods of the three methods below(Minimum Remaining Value, Least constraining value, Forward checking), but you should have a good performance **when N = 16 without GUI**. (**DDL: 11.04**)"
   ]
  },
  {
   "cell_type": "markdown",
   "id": "a48f87d8",
   "metadata": {},
   "source": [
    "# BTS: Backtracking search (Request 1, DDL: 10.28)"
   ]
  },
  {
   "cell_type": "code",
   "execution_count": 3,
   "id": "1f9e8ac1",
   "metadata": {},
   "outputs": [],
   "source": [
    "def bts(problem):\n",
    "    action_stack = []\n",
    "    while not problem.is_satisfy(action_stack):\n",
    "        yield action_stack\n"
   ]
  },
  {
   "cell_type": "markdown",
   "id": "f925203f",
   "metadata": {},
   "source": [
    "# Improving BTS To DO (Request 2, DDL: 11.04)\n",
    "* Which variable should be assigned next?\n",
    "* In what order should its values be tried?\n",
    "* Can we detect inevitable failure early?\n",
    "\n",
    "### Minimum Remaining Value\n",
    "Choose the variable with the fewest legal values in its domain\n",
    "### Least constraining value\n",
    "Given a variable, choose the least constraining value: the one that rules out the fewest values in the remaining variables\n",
    "### Forward checking\n",
    "Keep track of remaining legal values for the unassigned variables. Terminate when any variable has no legal values."
   ]
  },
  {
   "cell_type": "code",
   "execution_count": 3,
   "id": "8f840339",
   "metadata": {},
   "outputs": [],
   "source": [
    "def improving_bts(problem):\n",
    "    action_stack = []\n",
    "    while not problem.is_satisfy(action_stack):\n",
    "        \n",
    "        yield action_stack"
   ]
  },
  {
   "cell_type": "code",
   "execution_count": 4,
   "id": "93d2cb99",
   "metadata": {},
   "outputs": [
    {
     "ename": "KeyboardInterrupt",
     "evalue": "",
     "output_type": "error",
     "traceback": [
      "\u001B[1;31m---------------------------------------------------------------------------\u001B[0m",
      "\u001B[1;31mKeyboardInterrupt\u001B[0m                         Traceback (most recent call last)",
      "Cell \u001B[1;32mIn [4], line 34\u001B[0m\n\u001B[0;32m     32\u001B[0m \u001B[39melse\u001B[39;00m:\n\u001B[0;32m     33\u001B[0m     start_time \u001B[39m=\u001B[39m time\u001B[39m.\u001B[39mtime()\n\u001B[1;32m---> 34\u001B[0m     \u001B[39mfor\u001B[39;00m actions \u001B[39min\u001B[39;00m method(p):\n\u001B[0;32m     35\u001B[0m         \u001B[39mpass\u001B[39;00m\n\u001B[0;32m     36\u001B[0m     p\u001B[39m.\u001B[39mprint_state(actions)\n",
      "Cell \u001B[1;32mIn [3], line 3\u001B[0m, in \u001B[0;36mbts\u001B[1;34m(problem)\u001B[0m\n\u001B[0;32m      1\u001B[0m \u001B[39mdef\u001B[39;00m \u001B[39mbts\u001B[39m(problem):\n\u001B[0;32m      2\u001B[0m     action_stack \u001B[39m=\u001B[39m []\n\u001B[1;32m----> 3\u001B[0m     \u001B[39mwhile\u001B[39;00m \u001B[39mnot\u001B[39;00m problem\u001B[39m.\u001B[39;49mis_satisfy(action_stack):\n\u001B[0;32m      5\u001B[0m         \u001B[39myield\u001B[39;00m action_stack\n",
      "Cell \u001B[1;32mIn [1], line 41\u001B[0m, in \u001B[0;36mProblem.is_satisfy\u001B[1;34m(self, state)\u001B[0m\n\u001B[0;32m     40\u001B[0m \u001B[39mdef\u001B[39;00m \u001B[39mis_satisfy\u001B[39m(\u001B[39mself\u001B[39m, state):\n\u001B[1;32m---> 41\u001B[0m     \u001B[39mreturn\u001B[39;00m \u001B[39mself\u001B[39;49m\u001B[39m.\u001B[39;49mis_valid(state) \u001B[39mand\u001B[39;00m \u001B[39mlen\u001B[39m(state) \u001B[39m==\u001B[39m \u001B[39mself\u001B[39m\u001B[39m.\u001B[39mn\n",
      "Cell \u001B[1;32mIn [1], line 27\u001B[0m, in \u001B[0;36mProblem.is_valid\u001B[1;34m(self, state)\u001B[0m\n\u001B[0;32m     21\u001B[0m \u001B[39mdef\u001B[39;00m \u001B[39mis_valid\u001B[39m(\u001B[39mself\u001B[39m, state):\n\u001B[0;32m     22\u001B[0m     \u001B[39m\"\"\"\u001B[39;00m\n\u001B[0;32m     23\u001B[0m \u001B[39m    check the state satisfy condition or not.\u001B[39;00m\n\u001B[0;32m     24\u001B[0m \u001B[39m    :param state: list of points (in (row id, col id) tuple form)\u001B[39;00m\n\u001B[0;32m     25\u001B[0m \u001B[39m    :return: bool value of valid or not\u001B[39;00m\n\u001B[0;32m     26\u001B[0m \u001B[39m    \"\"\"\u001B[39;00m\n\u001B[1;32m---> 27\u001B[0m     board \u001B[39m=\u001B[39m \u001B[39mself\u001B[39;49m\u001B[39m.\u001B[39;49mget_board(state)\n\u001B[0;32m     28\u001B[0m     res \u001B[39m=\u001B[39m \u001B[39mTrue\u001B[39;00m\n\u001B[0;32m     29\u001B[0m     \u001B[39mfor\u001B[39;00m point \u001B[39min\u001B[39;00m state:\n",
      "\u001B[1;31mKeyboardInterrupt\u001B[0m: "
     ]
    }
   ],
   "source": [
    "\n",
    "# test_block\n",
    "n = N # Do not modify this parameter, if you want to change the size, go to the first line of whole program.\n",
    "render = False # here to select GUI or not\n",
    "method = bts  # here to change your method; bts or improving_bts\n",
    "p = Problem(n)\n",
    "if render:\n",
    "    import pygame\n",
    "    w, h = 90 * n + 10, 90 * n + 10\n",
    "    screen = pygame.display.set_mode((w, h))\n",
    "    screen.fill('white')\n",
    "    action_generator = method(p)\n",
    "    clk = pygame.time.Clock()\n",
    "    queen_img = pygame.image.load('./queen.png')\n",
    "    while True:\n",
    "        for event in pygame.event.get():\n",
    "            if event == pygame.QUIT:\n",
    "                exit()\n",
    "        try:\n",
    "            actions = next(action_generator)\n",
    "            screen.fill('white')\n",
    "            for i in range(n + 1):\n",
    "                pygame.draw.rect(screen, 'black', (i * 90, 0, 10, h))\n",
    "                pygame.draw.rect(screen, 'black', (0, i * 90, w, 10))\n",
    "            for action in actions:\n",
    "                i, j = action\n",
    "                screen.blit(queen_img, (10 + 90 * j, 10 + 90 * i))\n",
    "            pygame.display.flip()\n",
    "        except StopIteration:\n",
    "            pass\n",
    "        clk.tick(5)\n",
    "    pass\n",
    "else:\n",
    "    start_time = time.time()\n",
    "    for actions in method(p):\n",
    "        pass\n",
    "    p.print_state(actions)\n",
    "    print(time.time() - start_time)\n"
   ]
  }
 ],
 "metadata": {
  "kernelspec": {
   "display_name": "Python 3.10.4 64-bit",
   "language": "python",
   "name": "python3"
  },
  "language_info": {
   "codemirror_mode": {
    "name": "ipython",
    "version": 3
   },
   "file_extension": ".py",
   "mimetype": "text/x-python",
   "name": "python",
   "nbconvert_exporter": "python",
   "pygments_lexer": "ipython3",
   "version": "3.10.4"
  },
  "vscode": {
   "interpreter": {
    "hash": "d5a41efa2e1e47cd70c0626adfcb2629c7012816a142336e35a0911abbfcad27"
   }
  }
 },
 "nbformat": 4,
 "nbformat_minor": 5
}
