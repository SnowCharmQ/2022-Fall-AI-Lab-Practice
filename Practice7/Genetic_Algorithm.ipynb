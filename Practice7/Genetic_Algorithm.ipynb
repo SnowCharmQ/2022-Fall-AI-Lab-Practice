{
 "cells": [
  {
   "cell_type": "code",
   "execution_count": 146,
   "metadata": {},
   "outputs": [],
   "source": [
    "# % load_ext autoreload\n",
    "# % autoreload 2\n",
    "import random\n",
    "import numpy as np\n",
    "import matplotlib.pyplot as plt\n",
    "from utils import plot_NQueens, plot_evolution"
   ]
  },
  {
   "cell_type": "markdown",
   "metadata": {},
   "source": [
    "# Local Search: Genetic Algorithm\n",
    "\n",
    "## 1.Generating Phrases\n",
    "\n",
    "In this section we consider a toy problem: generating a target phrases (e.g. \"genetic algorithm\") from an initial population of random strings. Assume the length of the target is known.\n",
    "\n",
    "Problem Formulation: \n",
    "\n",
    "1. Direct Representation: just strings.\n",
    "2. Exponential Search Space: $m^l$ where $m$ is the size of the alphabet (set of characters in our interest) and $l$ is the length of the string.\n",
    "\n",
    "Now that we want to solve it with GA:\n",
    "1. Chromosome: directly use the string itself.\n",
    "2. Fitness: how match/close an individual is to the target.\n",
    "3. Mating: combine two strings in someway to generate a new one.\n",
    "\n",
    "The following cells will walk you through this problem to show the basic idea of GA"
   ]
  },
  {
   "cell_type": "code",
   "execution_count": 147,
   "metadata": {},
   "outputs": [
    {
     "data": {
      "text/plain": "['oLOmNKsSzMPkvqmcl',\n 'OROihvWbvYzsQNmfP',\n 'wi MncXscKSsRCYXr',\n 'ldHjxrAIiOgnzfBCj',\n 'rfJvxZrNyxnahBZuK',\n 'gaRoHigDcktKNCtGQ',\n 'rnDDWJMhZkxmHqFpy',\n 'WpxPDlxKDjUZwhlNF',\n 'jlJkGKcxjqvJUmcGf',\n 'RRsRMBILkBSCHYTjF']"
     },
     "execution_count": 147,
     "metadata": {},
     "output_type": "execute_result"
    }
   ],
   "source": [
    "# setting up the problem\n",
    "target = 'Genetic Algorithm'\n",
    "u_case = [chr(x) for x in range(65, 91)]\n",
    "l_case = [chr(x) for x in range(97, 123)]\n",
    "gene_pool = u_case + l_case + [' ']  # all English characters and white spaces\n",
    "\n",
    "\n",
    "def init_population(pop_size, gene_pool, state_length):\n",
    "    \"\"\"\n",
    "    Randomly initialize a population for genetic algorithm\n",
    "        pop_size  :  Number of individuals in population\n",
    "        gene_pool   :  List of possible values for individuals\n",
    "        state_length:  The length of each individual\n",
    "    \"\"\"\n",
    "\n",
    "    population = []\n",
    "    for _ in range(pop_size):\n",
    "        new_individual = \"\".join(random.choices(gene_pool, k=state_length))\n",
    "        population.append(new_individual)\n",
    "\n",
    "    return population\n",
    "\n",
    "\n",
    "# test\n",
    "init_pop = init_population(10, gene_pool, len(target))\n",
    "init_pop"
   ]
  },
  {
   "cell_type": "code",
   "execution_count": 148,
   "metadata": {},
   "outputs": [],
   "source": [
    "def fitness_fn(sample):\n",
    "    fitness = 0\n",
    "    length = len(target)\n",
    "    for i in range(length):\n",
    "        fitness += (abs(ord(target[i]) - ord(sample[i])))\n",
    "    return fitness\n",
    "\n",
    "# test\n",
    "# fitness_fn(init_pop[0])"
   ]
  },
  {
   "cell_type": "code",
   "execution_count": 149,
   "metadata": {},
   "outputs": [
    {
     "data": {
      "text/plain": "['jlJkGKcxjqvJUmcGf', 'WpxPDlxKDjUZwhlNF']"
     },
     "execution_count": 149,
     "metadata": {},
     "output_type": "execute_result"
    }
   ],
   "source": [
    "def select(r, population, fitness_fn):\n",
    "    \"\"\"\n",
    "    TODO: select *r* samples from *population*\n",
    "    the simplest choice is to sample from *population* with each individual weighted by its fitness\n",
    "    \"\"\"\n",
    "\n",
    "    class Gene:\n",
    "        def __init__(self, fitness, value):\n",
    "            self.fitness = fitness\n",
    "            self.value = value\n",
    "\n",
    "        def __cmp__(self, other):\n",
    "            if self.fitness > other.fitness:\n",
    "                return -1\n",
    "            elif self.fitness < other.fitness:\n",
    "                return 1\n",
    "            else:\n",
    "                return 0\n",
    "\n",
    "    genes = [Gene(fitness_fn(x), x) for x in population]\n",
    "    genes = sorted(genes, key=lambda g: g.fitness)\n",
    "    fitnesses = [g.fitness for g in genes]\n",
    "    total_fitness = sum(fitnesses)\n",
    "    select_pop = []\n",
    "    length = len(fitnesses)\n",
    "    for j in range(r):\n",
    "        num = 0\n",
    "        flag = random.randint(0, total_fitness)\n",
    "        for i in range(length):\n",
    "            num += fitnesses[i]\n",
    "            if num >= flag:\n",
    "                select_pop.append(genes[length - i - 1].value)\n",
    "                break\n",
    "    return select_pop\n",
    "\n",
    "\n",
    "# test\n",
    "parents = select(2, init_pop, fitness_fn)\n",
    "parents"
   ]
  },
  {
   "cell_type": "code",
   "execution_count": 150,
   "metadata": {},
   "outputs": [
    {
     "data": {
      "text/plain": "'jlJPDlxKDjUZwhlNF'"
     },
     "execution_count": 150,
     "metadata": {},
     "output_type": "execute_result"
    }
   ],
   "source": [
    "def recombine(x, y):\n",
    "    \"\"\"\n",
    "    TODO: combine two parents to produce an offspring\n",
    "    \"\"\"\n",
    "    length = len(x)\n",
    "    flag = random.randint(0, length - 1)\n",
    "    left = x[:flag]\n",
    "    right = y[flag:]\n",
    "    return left + right\n",
    "\n",
    "\n",
    "def mutate(x, gene_pool, pmut):\n",
    "    \"\"\"\n",
    "    apply mutation to *x* by randomly replacing one of its gene from *gene_pool*\n",
    "    \"\"\"\n",
    "    if random.uniform(0, 1) >= pmut:\n",
    "        return x\n",
    "\n",
    "    n = len(x)\n",
    "    g = len(gene_pool)\n",
    "    c = random.randrange(0, n)\n",
    "    r = random.randrange(0, g)\n",
    "\n",
    "    new_gene = gene_pool[r]\n",
    "    return x[:c] + new_gene + x[c + 1:]\n",
    "\n",
    "\n",
    "# test\n",
    "child = mutate(recombine(*parents), gene_pool, 0.1)\n",
    "child"
   ]
  },
  {
   "cell_type": "code",
   "execution_count": 151,
   "metadata": {},
   "outputs": [],
   "source": [
    "# now refactor things into a *Problem* abstraction\n",
    "# you can directly reuse what you have implemented above\n",
    "from abc import ABC, abstractmethod\n",
    "\n",
    "\n",
    "class GAProblem(ABC):\n",
    "    @abstractmethod\n",
    "    def init_population(self, pop_size): pass\n",
    "\n",
    "    @abstractmethod\n",
    "    def fitness(self, sample): pass\n",
    "\n",
    "    @abstractmethod\n",
    "    def reproduce(self, population, mutation_rate): pass\n",
    "\n",
    "    @abstractmethod\n",
    "    def replacement(self, old, new): pass\n",
    "\n",
    "\n",
    "class PhraseGeneration(GAProblem):\n",
    "    def __init__(self, target, alphabet):\n",
    "        self.target = target\n",
    "        self.alphabet = alphabet\n",
    "\n",
    "    def init_population(self, pop_size):\n",
    "        # raise NotImplementedError()\n",
    "        return init_population(pop_size, self.alphabet, len(self.target))\n",
    "\n",
    "    def fitness(self, sample):\n",
    "        fitness = 0\n",
    "        length = len(self.target)\n",
    "        for i in range(length):\n",
    "            fitness += abs(ord(self.target[i]) - ord(sample[i]))\n",
    "        return fitness\n",
    "\n",
    "    def reproduce(self, population, mutation_rate):\n",
    "        \"\"\"\n",
    "        TODO: generate the next generation of population\n",
    "\n",
    "        hint: make a new individual with \n",
    "        \n",
    "        mutate(recombine(*select(2, population, fitness_fn)), gene_pool, pmut)\n",
    "\n",
    "        \"\"\"\n",
    "        return [mutate(recombine(*select(2, population, self.fitness)), self.alphabet, mutation_rate) for _ in\n",
    "                range(len(population))]\n",
    "\n",
    "    def replacement(self, old, new):\n",
    "        \"\"\"\n",
    "        You can use your own strategy, for example retain some solutions from the old population\n",
    "        \"\"\"\n",
    "        return new\n",
    "\n",
    "\n",
    "def genetic_algorithm(\n",
    "        problem: GAProblem,\n",
    "        ngen, n_init_size, mutation_rate,\n",
    "        log_interval=100\n",
    "):\n",
    "    population = problem.init_population(n_init_size)\n",
    "    best = min(population, key=problem.fitness)\n",
    "    history = [(0, list(map(problem.fitness, population)))]\n",
    "\n",
    "    for gen in range(ngen):\n",
    "        next_gen = problem.reproduce(population, mutation_rate)\n",
    "        population = problem.replacement(population, next_gen)\n",
    "\n",
    "        if gen % log_interval == 0:\n",
    "            current_best = min(population, key=problem.fitness)\n",
    "            if problem.fitness(current_best) < problem.fitness(best):\n",
    "                best = current_best\n",
    "            if best == 0:\n",
    "                break\n",
    "            print(f\"Generation: {gen}/{ngen},\\tBest: {best},\\tFitness={problem.fitness(best)}\")\n",
    "            history.append((gen, list(map(problem.fitness, population))))\n",
    "\n",
    "    history.append((ngen - 1, list(map(problem.fitness, population))))\n",
    "    return best, history"
   ]
  },
  {
   "cell_type": "code",
   "execution_count": 152,
   "metadata": {},
   "outputs": [
    {
     "name": "stdout",
     "output_type": "stream",
     "text": [
      "Generation: 0/1500,\tBest: iTcTonag0fLXluwca2LzoBIJ4CRr4,\tFitness=580\n",
      "Generation: 100/1500,\tBest: MZrqgyQ4AeZksyujm5evM3LB54227,\tFitness=272\n",
      "Generation: 200/1500,\tBest: Mnrakym4Aeaksjujm5ev03AB54277,\tFitness=193\n",
      "Generation: 300/1500,\tBest: Jdrasdh4Aeeksjujm ez 32354277,\tFitness=85\n",
      "Generation: 400/1500,\tBest: Gdogsea Akeqsjujm az 12314257,\tFitness=35\n",
      "Generation: 500/1500,\tBest: Gdneska Alfosjujm bz 12114127,\tFitness=19\n",
      "Generation: 600/1500,\tBest: Gdnetia Alfosjuhm bz 12114127,\tFitness=14\n",
      "Generation: 700/1500,\tBest: Genetic Alforjuhm bz 12013116,\tFitness=6\n",
      "Generation: 800/1500,\tBest: Genetic Alforjuhm by 12013116,\tFitness=5\n",
      "Generation: 900/1500,\tBest: Genetic Algorithm by 12013106,\tFitness=1\n",
      "Generation: 1000/1500,\tBest: Genetic Algorithm by 12013006,\tFitness=0\n",
      "Generation: 1100/1500,\tBest: Genetic Algorithm by 12013006,\tFitness=0\n",
      "Generation: 1200/1500,\tBest: Genetic Algorithm by 12013006,\tFitness=0\n",
      "Generation: 1300/1500,\tBest: Genetic Algorithm by 12013006,\tFitness=0\n",
      "Generation: 1400/1500,\tBest: Genetic Algorithm by 12013006,\tFitness=0\n",
      "Genetic Algorithm by 12013006\n"
     ]
    }
   ],
   "source": [
    "# now set up the parameters\n",
    "ngen = 1500\n",
    "max_population = 120\n",
    "mutation_rate = 0.08\n",
    "\n",
    "sid = 12013006\n",
    "target = f\"Genetic Algorithm by {sid}\"\n",
    "u_case = [chr(x) for x in range(65, 91)]\n",
    "l_case = [chr(x) for x in range(97, 123)]\n",
    "digits = [str(i) for i in range(10)]\n",
    "alphabet = u_case + l_case + digits + [' ']\n",
    "\n",
    "problem = PhraseGeneration(target, alphabet)\n",
    "\n",
    "solution, history = genetic_algorithm(problem, ngen, max_population, mutation_rate)\n",
    "print(solution)"
   ]
  },
  {
   "cell_type": "markdown",
   "metadata": {},
   "source": [
    "## 2. N-Queens Problem\n",
    "\n",
    "It is possible to solve the N-Queens problem with slight modifications.\n",
    "\n",
    "For the problem:\n",
    "\n",
    "1. Direct Representation: placement of queens.\n",
    "2. Search Space: $n^n$, if we don't use any constraints.\n",
    "\n",
    "To use GA:\n",
    "\n",
    "Actually a new fitness function is the minimum modification you need for this problem.\n",
    "\n",
    "Others are alomost the same as the previous problem."
   ]
  },
  {
   "cell_type": "code",
   "execution_count": null,
   "metadata": {},
   "outputs": [],
   "source": [
    "class NQueensProblem(GAProblem):\n",
    "    def __init__(self, n):\n",
    "        self.n = n\n",
    "        self.max_fitness = n * (n - 1) // 2  # max number if non-attacking pairs\n",
    "\n",
    "    def init_population(self, pop_size):\n",
    "        # TODO:alomost the same as the previous problem.\n",
    "        raise NotImplementedError()\n",
    "\n",
    "    def fitness(self, queens):\n",
    "        \"\"\"\n",
    "        TODO\n",
    "\n",
    "        hint: count the non-attacking pairs\n",
    "        \"\"\"\n",
    "        raise NotImplementedError()\n",
    "\n",
    "    def reproduce(self, population, mutation_rate):\n",
    "        # TODO:alomost the same as the previous problem.\n",
    "        raise NotImplementedError()\n",
    "\n",
    "    def replacement(self, old, new):\n",
    "        \"\"\"\n",
    "        You can use your own strategy, for example retain some solutions from the old population\n",
    "        \"\"\"\n",
    "        return new\n",
    "\n",
    "    def __repr__(self):\n",
    "        return f\"{self.n}-Queens Problem\""
   ]
  },
  {
   "cell_type": "code",
   "execution_count": null,
   "metadata": {},
   "outputs": [],
   "source": [
    "from utils import plot_NQueens\n",
    "\n",
    "ngen = 1000\n",
    "init_size = 120\n",
    "mutation_rate = 0.08\n",
    "\n",
    "n = 8\n",
    "problem = NQueensProblem(n)\n",
    "solution, history = genetic_algorithm(problem, ngen, init_size, mutation_rate)"
   ]
  },
  {
   "cell_type": "code",
   "execution_count": null,
   "metadata": {},
   "outputs": [],
   "source": [
    "# Example of how to use this function\n",
    "# plot_NQueens([4, 2, 0, 6, 1, 7, 5, 3])\n",
    "# replace the parameter with your own results\n",
    "plot_NQueens(solution)"
   ]
  },
  {
   "cell_type": "code",
   "execution_count": null,
   "metadata": {},
   "outputs": [],
   "source": [
    "# Visualize the evolution of the polulation\n",
    "bins = np.linspace(0, problem.max_fitness, problem.max_fitness)\n",
    "plot_evolution(history, bins)"
   ]
  }
 ],
 "metadata": {
  "interpreter": {
   "hash": "fb94abd67aa002aa187ead1d4120a8ec4bfee3e4c9494aaf1e01cee1e01ca26c"
  },
  "kernelspec": {
   "display_name": "Python 3",
   "language": "python",
   "name": "python3"
  },
  "language_info": {
   "codemirror_mode": {
    "name": "ipython",
    "version": 3
   },
   "file_extension": ".py",
   "mimetype": "text/x-python",
   "name": "python",
   "nbconvert_exporter": "python",
   "pygments_lexer": "ipython3",
   "version": "3.8.8"
  }
 },
 "nbformat": 4,
 "nbformat_minor": 2
}
